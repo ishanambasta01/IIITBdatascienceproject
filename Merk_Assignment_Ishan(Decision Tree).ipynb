{
 "cells": [
  {
   "cell_type": "code",
   "execution_count": 1,
   "metadata": {
    "colab": {},
    "colab_type": "code",
    "id": "-XqH1nRArCoU"
   },
   "outputs": [],
   "source": [
    "#ISHAN\n",
    "\n",
    "import pandas as pd\n",
    "import numpy as np\n",
    "\n",
    "import matplotlib\n",
    "import matplotlib.pyplot as plt\n",
    "#plt.style.use('seaborn-white')\n",
    "import seaborn as sns\n",
    "from matplotlib.dates import DateFormatter\n",
    "\n",
    "import time\n",
    "from datetime import date\n",
    "from datetime import datetime\n",
    "from math import log\n",
    "\n",
    "from sklearn.model_selection import train_test_split\n",
    "from sklearn.preprocessing import LabelEncoder\n",
    "from sklearn import metrics \n",
    "from sklearn.metrics import confusion_matrix\n",
    "from sklearn.tree import DecisionTreeClassifier\n",
    "from sklearn.preprocessing import LabelEncoder\n",
    "\n"
   ]
  },
  {
   "cell_type": "markdown",
   "metadata": {
    "colab_type": "text",
    "id": "AjqqTOl_rCoY"
   },
   "source": [
    "Plot settings"
   ]
  },
  {
   "cell_type": "code",
   "execution_count": 2,
   "metadata": {
    "colab": {
     "base_uri": "https://localhost:8080/",
     "height": 309
    },
    "colab_type": "code",
    "id": "kinSVY8hrCoc",
    "outputId": "6e9dc55d-da8b-405e-f6c2-764068f8e1c5"
   },
   "outputs": [
    {
     "name": "stderr",
     "output_type": "stream",
     "text": [
      "/opt/anaconda3/lib/python3.7/site-packages/IPython/core/interactiveshell.py:3058: DtypeWarning: Columns (0) have mixed types. Specify dtype option on import or set low_memory=False.\n",
      "  interactivity=interactivity, compiler=compiler, result=result)\n"
     ]
    },
    {
     "data": {
      "text/html": [
       "<div>\n",
       "<style scoped>\n",
       "    .dataframe tbody tr th:only-of-type {\n",
       "        vertical-align: middle;\n",
       "    }\n",
       "\n",
       "    .dataframe tbody tr th {\n",
       "        vertical-align: top;\n",
       "    }\n",
       "\n",
       "    .dataframe thead th {\n",
       "        text-align: right;\n",
       "    }\n",
       "</style>\n",
       "<table border=\"1\" class=\"dataframe\">\n",
       "  <thead>\n",
       "    <tr style=\"text-align: right;\">\n",
       "      <th></th>\n",
       "      <th>fullVisitorId</th>\n",
       "      <th>visitNumber</th>\n",
       "      <th>date</th>\n",
       "      <th>visitStartTime</th>\n",
       "      <th>totals_bounces</th>\n",
       "      <th>totals_pageviews</th>\n",
       "      <th>totals_timeOnSite</th>\n",
       "      <th>totals_totalTransactionRevenue</th>\n",
       "      <th>totals_transactions</th>\n",
       "      <th>trafficSource_source</th>\n",
       "      <th>trafficSource_medium</th>\n",
       "      <th>trafficSource_campaign</th>\n",
       "      <th>device_deviceCategory</th>\n",
       "      <th>device_operatingSystem</th>\n",
       "      <th>device_mobileDeviceModel</th>\n",
       "      <th>geoNetwork_city</th>\n",
       "      <th>channelGrouping</th>\n",
       "    </tr>\n",
       "  </thead>\n",
       "  <tbody>\n",
       "    <tr>\n",
       "      <td>0</td>\n",
       "      <td>27376579751715</td>\n",
       "      <td>1</td>\n",
       "      <td>20170211</td>\n",
       "      <td>1486866293</td>\n",
       "      <td>NaN</td>\n",
       "      <td>5.0</td>\n",
       "      <td>49.0</td>\n",
       "      <td>NaN</td>\n",
       "      <td>NaN</td>\n",
       "      <td>(direct)</td>\n",
       "      <td>(none)</td>\n",
       "      <td>(not set)</td>\n",
       "      <td>desktop</td>\n",
       "      <td>Macintosh</td>\n",
       "      <td>not available in demo dataset</td>\n",
       "      <td>not available in demo dataset</td>\n",
       "      <td>Organic Search</td>\n",
       "    </tr>\n",
       "    <tr>\n",
       "      <td>1</td>\n",
       "      <td>39460501403861</td>\n",
       "      <td>1</td>\n",
       "      <td>20170327</td>\n",
       "      <td>1490629516</td>\n",
       "      <td>NaN</td>\n",
       "      <td>2.0</td>\n",
       "      <td>99.0</td>\n",
       "      <td>NaN</td>\n",
       "      <td>NaN</td>\n",
       "      <td>youtube.com</td>\n",
       "      <td>referral</td>\n",
       "      <td>(not set)</td>\n",
       "      <td>desktop</td>\n",
       "      <td>Windows</td>\n",
       "      <td>not available in demo dataset</td>\n",
       "      <td>not available in demo dataset</td>\n",
       "      <td>Social</td>\n",
       "    </tr>\n",
       "    <tr>\n",
       "      <td>2</td>\n",
       "      <td>40862739425590</td>\n",
       "      <td>1</td>\n",
       "      <td>20170211</td>\n",
       "      <td>1486836571</td>\n",
       "      <td>NaN</td>\n",
       "      <td>2.0</td>\n",
       "      <td>14.0</td>\n",
       "      <td>NaN</td>\n",
       "      <td>NaN</td>\n",
       "      <td>(direct)</td>\n",
       "      <td>(none)</td>\n",
       "      <td>(not set)</td>\n",
       "      <td>desktop</td>\n",
       "      <td>Macintosh</td>\n",
       "      <td>not available in demo dataset</td>\n",
       "      <td>Oakland</td>\n",
       "      <td>Paid Search</td>\n",
       "    </tr>\n",
       "    <tr>\n",
       "      <td>3</td>\n",
       "      <td>40862739425590</td>\n",
       "      <td>2</td>\n",
       "      <td>20170211</td>\n",
       "      <td>1486838824</td>\n",
       "      <td>NaN</td>\n",
       "      <td>3.0</td>\n",
       "      <td>35.0</td>\n",
       "      <td>NaN</td>\n",
       "      <td>NaN</td>\n",
       "      <td>(direct)</td>\n",
       "      <td>(none)</td>\n",
       "      <td>(not set)</td>\n",
       "      <td>desktop</td>\n",
       "      <td>Macintosh</td>\n",
       "      <td>not available in demo dataset</td>\n",
       "      <td>Oakland</td>\n",
       "      <td>Paid Search</td>\n",
       "    </tr>\n",
       "    <tr>\n",
       "      <td>4</td>\n",
       "      <td>62267706107999</td>\n",
       "      <td>1</td>\n",
       "      <td>20170709</td>\n",
       "      <td>1499645960</td>\n",
       "      <td>1.0</td>\n",
       "      <td>1.0</td>\n",
       "      <td>NaN</td>\n",
       "      <td>NaN</td>\n",
       "      <td>NaN</td>\n",
       "      <td>Partners</td>\n",
       "      <td>affiliate</td>\n",
       "      <td>Data Share Promo</td>\n",
       "      <td>desktop</td>\n",
       "      <td>Windows</td>\n",
       "      <td>not available in demo dataset</td>\n",
       "      <td>not available in demo dataset</td>\n",
       "      <td>Affiliates</td>\n",
       "    </tr>\n",
       "  </tbody>\n",
       "</table>\n",
       "</div>"
      ],
      "text/plain": [
       "    fullVisitorId  visitNumber      date  visitStartTime  totals_bounces  \\\n",
       "0  27376579751715            1  20170211      1486866293             NaN   \n",
       "1  39460501403861            1  20170327      1490629516             NaN   \n",
       "2  40862739425590            1  20170211      1486836571             NaN   \n",
       "3  40862739425590            2  20170211      1486838824             NaN   \n",
       "4  62267706107999            1  20170709      1499645960             1.0   \n",
       "\n",
       "   totals_pageviews  totals_timeOnSite  totals_totalTransactionRevenue  \\\n",
       "0               5.0               49.0                             NaN   \n",
       "1               2.0               99.0                             NaN   \n",
       "2               2.0               14.0                             NaN   \n",
       "3               3.0               35.0                             NaN   \n",
       "4               1.0                NaN                             NaN   \n",
       "\n",
       "   totals_transactions trafficSource_source trafficSource_medium  \\\n",
       "0                  NaN             (direct)               (none)   \n",
       "1                  NaN          youtube.com             referral   \n",
       "2                  NaN             (direct)               (none)   \n",
       "3                  NaN             (direct)               (none)   \n",
       "4                  NaN             Partners            affiliate   \n",
       "\n",
       "  trafficSource_campaign device_deviceCategory device_operatingSystem  \\\n",
       "0              (not set)               desktop              Macintosh   \n",
       "1              (not set)               desktop                Windows   \n",
       "2              (not set)               desktop              Macintosh   \n",
       "3              (not set)               desktop              Macintosh   \n",
       "4       Data Share Promo               desktop                Windows   \n",
       "\n",
       "        device_mobileDeviceModel                geoNetwork_city  \\\n",
       "0  not available in demo dataset  not available in demo dataset   \n",
       "1  not available in demo dataset  not available in demo dataset   \n",
       "2  not available in demo dataset                        Oakland   \n",
       "3  not available in demo dataset                        Oakland   \n",
       "4  not available in demo dataset  not available in demo dataset   \n",
       "\n",
       "  channelGrouping  \n",
       "0  Organic Search  \n",
       "1          Social  \n",
       "2     Paid Search  \n",
       "3     Paid Search  \n",
       "4      Affiliates  "
      ]
     },
     "execution_count": 2,
     "metadata": {},
     "output_type": "execute_result"
    }
   ],
   "source": [
    "data = pd.read_csv(\"/Users/skambasta/Downloads/sample_user_data.csv\")\n",
    "data.head()"
   ]
  },
  {
   "cell_type": "code",
   "execution_count": 3,
   "metadata": {
    "colab": {
     "base_uri": "https://localhost:8080/",
     "height": 34
    },
    "colab_type": "code",
    "id": "LlTgbOtrrCof",
    "outputId": "0a235818-6d60-4a8b-c37c-2285a0a266ee"
   },
   "outputs": [
    {
     "data": {
      "text/plain": [
       "(464704, 17)"
      ]
     },
     "execution_count": 3,
     "metadata": {},
     "output_type": "execute_result"
    }
   ],
   "source": [
    "#Checking dimension of data frame\n",
    "data.shape"
   ]
  },
  {
   "cell_type": "code",
   "execution_count": 4,
   "metadata": {
    "colab": {
     "base_uri": "https://localhost:8080/",
     "height": 323
    },
    "colab_type": "code",
    "id": "9eBTBmxZrCoi",
    "outputId": "89c6f68e-c180-4335-f22e-f4fdbfc5efe7"
   },
   "outputs": [
    {
     "data": {
      "text/plain": [
       "fullVisitorId                      object\n",
       "visitNumber                         int64\n",
       "date                                int64\n",
       "visitStartTime                      int64\n",
       "totals_bounces                    float64\n",
       "totals_pageviews                  float64\n",
       "totals_timeOnSite                 float64\n",
       "totals_totalTransactionRevenue    float64\n",
       "totals_transactions               float64\n",
       "trafficSource_source               object\n",
       "trafficSource_medium               object\n",
       "trafficSource_campaign             object\n",
       "device_deviceCategory              object\n",
       "device_operatingSystem             object\n",
       "device_mobileDeviceModel           object\n",
       "geoNetwork_city                    object\n",
       "channelGrouping                    object\n",
       "dtype: object"
      ]
     },
     "execution_count": 4,
     "metadata": {},
     "output_type": "execute_result"
    }
   ],
   "source": [
    "#Checking Property of Attributes in DataFrame\n",
    "data.dtypes"
   ]
  },
  {
   "cell_type": "code",
   "execution_count": 5,
   "metadata": {
    "colab": {
     "base_uri": "https://localhost:8080/",
     "height": 153
    },
    "colab_type": "code",
    "id": "AyF56CoG-_ei",
    "outputId": "433ce16f-9954-42eb-f4aa-8c739f76d69c"
   },
   "outputs": [
    {
     "data": {
      "text/plain": [
       "Index(['fullVisitorId', 'visitNumber', 'date', 'visitStartTime',\n",
       "       'totals_bounces', 'totals_pageviews', 'totals_timeOnSite',\n",
       "       'totals_totalTransactionRevenue', 'totals_transactions',\n",
       "       'trafficSource_source', 'trafficSource_medium',\n",
       "       'trafficSource_campaign', 'device_deviceCategory',\n",
       "       'device_operatingSystem', 'device_mobileDeviceModel', 'geoNetwork_city',\n",
       "       'channelGrouping'],\n",
       "      dtype='object')"
      ]
     },
     "execution_count": 5,
     "metadata": {},
     "output_type": "execute_result"
    }
   ],
   "source": [
    "#A list of all column Names in the dataset\n",
    "data.columns"
   ]
  },
  {
   "cell_type": "markdown",
   "metadata": {},
   "source": [
    "Cleaning the Dataset"
   ]
  },
  {
   "cell_type": "code",
   "execution_count": 6,
   "metadata": {
    "colab": {},
    "colab_type": "code",
    "id": "Yysp7GzDrCom"
   },
   "outputs": [],
   "source": [
    "#Changing Column Names to Appropriate Labels\n",
    "data.rename(columns = {       'date' : 'Date',\n",
    "                              'totals_bounces' : 'Bounces',\n",
    "                              'totals_pageviews' : 'Page_Views',\n",
    "                              'totals_timeOnSite' : 'Avg_Session_Duration',\n",
    "                              'totals_totalTransactionRevenue' : 'Transaction_Revenue', #Transaction_Amt\n",
    "                              'totals_transactions' : 'Transaction_Total',\n",
    "                              'trafficSource_source' : 'Traffic_Source',\n",
    "                              'trafficSource_medium' : 'Traffic_SourceMedium',\n",
    "                              'trafficSource_campaign' : 'Traffic_SourceCampaign',\n",
    "                              'device_deviceCategory' : 'Device_Category',\n",
    "                              'device_operatingSystem' : 'OperatingSystem',\n",
    "                              'device_mobileDeviceModel' : 'Device_Model',\n",
    "                              'geoNetwork_city' : 'City'},inplace = True)\n"
   ]
  },
  {
   "cell_type": "code",
   "execution_count": 7,
   "metadata": {
    "colab": {
     "base_uri": "https://localhost:8080/",
     "height": 576
    },
    "colab_type": "code",
    "id": "SVg0sLa4rCop",
    "outputId": "95140876-6361-4c2f-994c-a83046850122"
   },
   "outputs": [
    {
     "data": {
      "text/html": [
       "<div>\n",
       "<style scoped>\n",
       "    .dataframe tbody tr th:only-of-type {\n",
       "        vertical-align: middle;\n",
       "    }\n",
       "\n",
       "    .dataframe tbody tr th {\n",
       "        vertical-align: top;\n",
       "    }\n",
       "\n",
       "    .dataframe thead th {\n",
       "        text-align: right;\n",
       "    }\n",
       "</style>\n",
       "<table border=\"1\" class=\"dataframe\">\n",
       "  <thead>\n",
       "    <tr style=\"text-align: right;\">\n",
       "      <th></th>\n",
       "      <th>Missing_count</th>\n",
       "      <th>percent_missing</th>\n",
       "    </tr>\n",
       "  </thead>\n",
       "  <tbody>\n",
       "    <tr>\n",
       "      <td>fullVisitorId</td>\n",
       "      <td>0</td>\n",
       "      <td>0.00</td>\n",
       "    </tr>\n",
       "    <tr>\n",
       "      <td>visitNumber</td>\n",
       "      <td>0</td>\n",
       "      <td>0.00</td>\n",
       "    </tr>\n",
       "    <tr>\n",
       "      <td>Date</td>\n",
       "      <td>0</td>\n",
       "      <td>0.00</td>\n",
       "    </tr>\n",
       "    <tr>\n",
       "      <td>visitStartTime</td>\n",
       "      <td>0</td>\n",
       "      <td>0.00</td>\n",
       "    </tr>\n",
       "    <tr>\n",
       "      <td>Bounces</td>\n",
       "      <td>232332</td>\n",
       "      <td>50.00</td>\n",
       "    </tr>\n",
       "    <tr>\n",
       "      <td>Page_Views</td>\n",
       "      <td>52</td>\n",
       "      <td>0.01</td>\n",
       "    </tr>\n",
       "    <tr>\n",
       "      <td>Avg_Session_Duration</td>\n",
       "      <td>233021</td>\n",
       "      <td>50.14</td>\n",
       "    </tr>\n",
       "    <tr>\n",
       "      <td>Transaction_Revenue</td>\n",
       "      <td>458396</td>\n",
       "      <td>98.64</td>\n",
       "    </tr>\n",
       "    <tr>\n",
       "      <td>Transaction_Total</td>\n",
       "      <td>458396</td>\n",
       "      <td>98.64</td>\n",
       "    </tr>\n",
       "    <tr>\n",
       "      <td>Traffic_Source</td>\n",
       "      <td>0</td>\n",
       "      <td>0.00</td>\n",
       "    </tr>\n",
       "    <tr>\n",
       "      <td>Traffic_SourceMedium</td>\n",
       "      <td>0</td>\n",
       "      <td>0.00</td>\n",
       "    </tr>\n",
       "    <tr>\n",
       "      <td>Traffic_SourceCampaign</td>\n",
       "      <td>0</td>\n",
       "      <td>0.00</td>\n",
       "    </tr>\n",
       "    <tr>\n",
       "      <td>Device_Category</td>\n",
       "      <td>0</td>\n",
       "      <td>0.00</td>\n",
       "    </tr>\n",
       "    <tr>\n",
       "      <td>OperatingSystem</td>\n",
       "      <td>0</td>\n",
       "      <td>0.00</td>\n",
       "    </tr>\n",
       "    <tr>\n",
       "      <td>Device_Model</td>\n",
       "      <td>0</td>\n",
       "      <td>0.00</td>\n",
       "    </tr>\n",
       "    <tr>\n",
       "      <td>City</td>\n",
       "      <td>0</td>\n",
       "      <td>0.00</td>\n",
       "    </tr>\n",
       "    <tr>\n",
       "      <td>channelGrouping</td>\n",
       "      <td>0</td>\n",
       "      <td>0.00</td>\n",
       "    </tr>\n",
       "  </tbody>\n",
       "</table>\n",
       "</div>"
      ],
      "text/plain": [
       "                        Missing_count  percent_missing\n",
       "fullVisitorId                       0             0.00\n",
       "visitNumber                         0             0.00\n",
       "Date                                0             0.00\n",
       "visitStartTime                      0             0.00\n",
       "Bounces                        232332            50.00\n",
       "Page_Views                         52             0.01\n",
       "Avg_Session_Duration           233021            50.14\n",
       "Transaction_Revenue            458396            98.64\n",
       "Transaction_Total              458396            98.64\n",
       "Traffic_Source                      0             0.00\n",
       "Traffic_SourceMedium                0             0.00\n",
       "Traffic_SourceCampaign              0             0.00\n",
       "Device_Category                     0             0.00\n",
       "OperatingSystem                     0             0.00\n",
       "Device_Model                        0             0.00\n",
       "City                                0             0.00\n",
       "channelGrouping                     0             0.00"
      ]
     },
     "execution_count": 7,
     "metadata": {},
     "output_type": "execute_result"
    }
   ],
   "source": [
    "#Checking Nulls in dataset\n",
    "percent_missing = data.isnull().sum() * 100 / len(data)\n",
    "missing_value_data = pd.DataFrame({\"Missing_count\":data.isnull().sum(),\n",
    "                                 'percent_missing': round(percent_missing,2)})\n",
    "missing_value_data"
   ]
  },
  {
   "cell_type": "code",
   "execution_count": 8,
   "metadata": {
    "colab": {},
    "colab_type": "code",
    "id": "PWHuXxE-rCos"
   },
   "outputs": [],
   "source": [
    "# Checking for inconsistencies in Transaction Data\n",
    "# 7th Column-Transaction_Revenue\n",
    "# 8th Column-Transaction_Total \n",
    "for i in range(0,len(data),1):\n",
    "    if (pd.isna(data.iloc[i,7])) and (pd.notna(data.iloc[i,8])):\n",
    "        print('Transaction_Revenue missing when Number of Transactions not null at row ', i)\n",
    "    \n",
    "for m in range(0,len(data),1):\n",
    "    if (pd.isna(data.iloc[m,8])) and (pd.notna(data.iloc[m,7])):\n",
    "        print('Number of Transaction_Total missing when the Transacation Revenue is not null at row ', m)\n"
   ]
  },
  {
   "cell_type": "code",
   "execution_count": 9,
   "metadata": {
    "colab": {},
    "colab_type": "code",
    "id": "Txwkh_8_rCov"
   },
   "outputs": [],
   "source": [
    "#Since, the two conditional checks in the step above showed no results, we can continue with the following\n",
    "# Replacing NAs in Transaction_Revenue and Transaction_Total\n",
    "data['Transaction_Revenue'].fillna(0, inplace=True)\n",
    "data['Transaction_Total'].fillna(0, inplace=True)"
   ]
  },
  {
   "cell_type": "code",
   "execution_count": 10,
   "metadata": {
    "colab": {
     "base_uri": "https://localhost:8080/",
     "height": 34
    },
    "colab_type": "code",
    "id": "9SQOV6eWrCox",
    "outputId": "467ec25c-6062-4c95-8f0a-9fb0e2364a1c"
   },
   "outputs": [
    {
     "name": "stdout",
     "output_type": "stream",
     "text": [
      "3.7703065921508796\n"
     ]
    }
   ],
   "source": [
    "# Replacing NULLs in Page_Views\n",
    "#5th column-Page_Views\n",
    "#6th column-Avg_Session_Duration\n",
    "for i in range(0,len(data),1):\n",
    "    if (pd.isna(data.iloc[i,5])) and (pd.isna(data.iloc[i,6])):\n",
    "        data.iloc[i,5] = 0\n",
    "\n",
    "print(data[\"Page_Views\"].mean())\n",
    "#Mean value comes to around 3.77\n",
    "data['Page_Views'] = data['Page_Views'].fillna((data['Page_Views'].mean()))"
   ]
  },
  {
   "cell_type": "code",
   "execution_count": 11,
   "metadata": {
    "colab": {},
    "colab_type": "code",
    "id": "jISd-WFhrCoz"
   },
   "outputs": [],
   "source": [
    "#Replacing NULLs in Avg_session_duration [This Step takes some time to process...]\n",
    "#6th Column = Avg_Session_Duration\n",
    "#4th Column = Bounces\n",
    "\n",
    "for i in range(0,len(data),1):\n",
    "    if (pd.notna(data.iloc[i,4]))and (pd.isna(data.iloc[i,6])):\n",
    "        data.iloc[i,6] = 0\n"
   ]
  },
  {
   "cell_type": "code",
   "execution_count": 12,
   "metadata": {
    "colab": {
     "base_uri": "https://localhost:8080/",
     "height": 34
    },
    "colab_type": "code",
    "id": "Q4NPUEKY-cUu",
    "outputId": "15082d7c-e800-40ce-da1c-208ac57feb80"
   },
   "outputs": [
    {
     "name": "stdout",
     "output_type": "stream",
     "text": [
      "139.72984178565426\n"
     ]
    }
   ],
   "source": [
    "print(data['Avg_Session_Duration'].mean())\n",
    "#Mean Value of Avg_Session_Duration is 139.729\n",
    "data['Avg_Session_Duration'] = data['Avg_Session_Duration'].fillna((data['Avg_Session_Duration'].mean()))"
   ]
  },
  {
   "cell_type": "code",
   "execution_count": 13,
   "metadata": {
    "colab": {},
    "colab_type": "code",
    "id": "oRNp1C8UrCo1"
   },
   "outputs": [],
   "source": [
    "# Replacing NULLS in Bounces\n",
    "data['Bounces'].fillna(0, inplace=True)"
   ]
  },
  {
   "cell_type": "code",
   "execution_count": 14,
   "metadata": {
    "colab": {
     "base_uri": "https://localhost:8080/",
     "height": 323
    },
    "colab_type": "code",
    "id": "vElj9VJNrCo4",
    "outputId": "c03b5e76-d20f-411b-86ce-a7d5636705c1"
   },
   "outputs": [
    {
     "data": {
      "text/plain": [
       "fullVisitorId             0\n",
       "visitNumber               0\n",
       "Date                      0\n",
       "visitStartTime            0\n",
       "Bounces                   0\n",
       "Page_Views                0\n",
       "Avg_Session_Duration      0\n",
       "Transaction_Revenue       0\n",
       "Transaction_Total         0\n",
       "Traffic_Source            0\n",
       "Traffic_SourceMedium      0\n",
       "Traffic_SourceCampaign    0\n",
       "Device_Category           0\n",
       "OperatingSystem           0\n",
       "Device_Model              0\n",
       "City                      0\n",
       "channelGrouping           0\n",
       "dtype: int64"
      ]
     },
     "execution_count": 14,
     "metadata": {},
     "output_type": "execute_result"
    }
   ],
   "source": [
    "# Double checking if all NULLS have been treated\n",
    "data.isnull().sum()"
   ]
  },
  {
   "cell_type": "code",
   "execution_count": 15,
   "metadata": {
    "colab": {},
    "colab_type": "code",
    "id": "0UQGwvfzAP0i"
   },
   "outputs": [],
   "source": [
    "#Creating Additional Columns to aid the model\n",
    "#Creating Transact Column : To indicate whether there was a transaction or not (0 - No, 1 - Yes)\n",
    "data['transact'] = np.where(data['Transaction_Total']  == 0, '0','1')\n",
    "data['transact'] = data['transact'].astype('str')\n",
    "\n",
    "#Converting fullVisitorId to string type\n",
    "data['fullVisitorId'] = data['fullVisitorId'].astype('str')\n",
    "\n",
    "#Month: The Month is derived from 'Date' column \n",
    "#Day : The Day is derived from 'Date' column\n",
    "\n",
    "# Create two new columns for month and day\n",
    "data[['month']] = data[['Date']].applymap(str).applymap(lambda s: \"{}\".format(s[4:6]))\n",
    "data[['day']] = data[['Date']].applymap(str).applymap(lambda s: \"{}\".format(s[6:]))\n",
    "\n",
    "#Converting Month and Day to String type\n",
    "data['month'] = data['month'].astype('str')\n",
    "data['day'] = data['day'].astype('str')\n",
    "\n",
    "#Hour : The hour is derived from the VisitStartTime column\n",
    "data['mid_step'] = pd.to_datetime(data['visitStartTime'],unit='s')\n",
    "data[['hour']] = data[['mid_step']].applymap(str).applymap(lambda s: \"{}\".format(s[11:13]))\n",
    "\n",
    "#Transaction_Revenue : The Actual transaction amount is derived from Transaction_Revenue column\n",
    "data['Transaction_Revenue'] = data['Transaction_Total'] / 1000000"
   ]
  },
  {
   "cell_type": "code",
   "execution_count": 16,
   "metadata": {
    "colab": {},
    "colab_type": "code",
    "id": "NqdwXG7CrCpO"
   },
   "outputs": [],
   "source": [
    "#Removing Columns that don't add value to Model Building now\n",
    "final_df = data.drop(['Date','visitStartTime','Device_Model','mid_step','Transaction_Total'],axis=1)"
   ]
  },
  {
   "cell_type": "code",
   "execution_count": 17,
   "metadata": {
    "colab": {
     "base_uri": "https://localhost:8080/",
     "height": 295
    },
    "colab_type": "code",
    "id": "djMKIKqnB4du",
    "outputId": "99c41373-9339-4b4e-e7f2-ff081f04243d"
   },
   "outputs": [
    {
     "data": {
      "image/png": "[encoded data removed]",
      "text/plain": [
       "<Figure size 432x288 with 1 Axes>"
      ]
     },
     "metadata": {
      "needs_background": "light"
     },
     "output_type": "display_data"
    }
   ],
   "source": [
    "#Plotting to see Trend in Transactions across months\n",
    "plot=sns.countplot(x='month', data=final_df[~final_df['transact'].str.startswith(('C'))])\n",
    "plt.xlabel(\"Month\")\n",
    "plt.ylabel(\"# Transactions\")\n",
    "plt.title(\"Number of Transactions by Month\")\n",
    "plt.show(plot)"
   ]
  },
  {
   "cell_type": "code",
   "execution_count": 18,
   "metadata": {
    "colab": {
     "base_uri": "https://localhost:8080/",
     "height": 295
    },
    "colab_type": "code",
    "id": "EuegSBB9CBV_",
    "outputId": "63179342-ef62-441a-c4d9-b224ee0db92b"
   },
   "outputs": [
    {
     "data": {
      "image/png": "[encoded data removed]",
      "text/plain": [
       "<Figure size 432x288 with 1 Axes>"
      ]
     },
     "metadata": {
      "needs_background": "light"
     },
     "output_type": "display_data"
    }
   ],
   "source": [
    "#Plotting to see Trend in Transactions across Days of the Month\n",
    "plot=sns.countplot(x='day', data=final_df[~final_df['transact'].str.startswith(('C'))])\n",
    "plt.xlabel(\"Day\")\n",
    "plt.ylabel(\"# Transactions\")\n",
    "plt.title(\"Number of Transactions by Day of the Month\")\n",
    "plt.show(plot)"
   ]
  },
  {
   "cell_type": "code",
   "execution_count": 19,
   "metadata": {
    "colab": {
     "base_uri": "https://localhost:8080/",
     "height": 295
    },
    "colab_type": "code",
    "id": "UEggh58tCIt8",
    "outputId": "4412af30-e9d3-46a2-e706-578efe977739"
   },
   "outputs": [
    {
     "data": {
      "image/png": "[encoded data removed]",
      "text/plain": [
       "<Figure size 432x288 with 1 Axes>"
      ]
     },
     "metadata": {
      "needs_background": "light"
     },
     "output_type": "display_data"
    }
   ],
   "source": [
    "#Plotting to see Trend in Transactions Per Hour\n",
    "plot=sns.countplot(x='hour', data=final_df[~final_df['transact'].str.startswith(('C'))])\n",
    "plt.xlabel(\"Hour of the Day\")\n",
    "plt.ylabel(\"No of Transactions\")\n",
    "plt.title(\"Number of Transactions by Hour\")\n",
    "plt.show(plot)"
   ]
  },
  {
   "cell_type": "code",
   "execution_count": 20,
   "metadata": {
    "colab": {
     "base_uri": "https://localhost:8080/",
     "height": 296
    },
    "colab_type": "code",
    "id": "5pbN_mvyCRv3",
    "outputId": "a893dc8a-1ede-4d1d-da89-86ea663276bb"
   },
   "outputs": [
    {
     "data": {
      "image/png": "[encoded data removed]",
      "text/plain": [
       "<Figure size 432x288 with 1 Axes>"
      ]
     },
     "metadata": {
      "needs_background": "light"
     },
     "output_type": "display_data"
    }
   ],
   "source": [
    "#Plotting to see Transactions and Page_Views Relation\n",
    "temp_file = final_df.groupby(by=['Page_Views'], as_index=False)['transact'].count()\n",
    "plt.plot(temp_file.Page_Views, temp_file.transact,color='green')\n",
    "plt.xlabel('No of Page_Views')\n",
    "plt.ylabel('No of Transactions')\n",
    "plt.title('No of Transactions by Number of Page Views')\n",
    "plt.show()"
   ]
  },
  {
   "cell_type": "code",
   "execution_count": 21,
   "metadata": {
    "colab": {
     "base_uri": "https://localhost:8080/",
     "height": 323
    },
    "colab_type": "code",
    "id": "pQt_CVI2yw35",
    "outputId": "f727416b-469f-4a4d-cb39-f07794e67aff"
   },
   "outputs": [
    {
     "data": {
      "text/plain": [
       "fullVisitorId              object\n",
       "visitNumber                 int64\n",
       "Bounces                   float64\n",
       "Page_Views                float64\n",
       "Avg_Session_Duration      float64\n",
       "Transaction_Revenue       float64\n",
       "Traffic_Source             object\n",
       "Traffic_SourceMedium       object\n",
       "Traffic_SourceCampaign     object\n",
       "Device_Category            object\n",
       "OperatingSystem            object\n",
       "City                       object\n",
       "channelGrouping            object\n",
       "transact                   object\n",
       "month                      object\n",
       "day                        object\n",
       "hour                       object\n",
       "dtype: object"
      ]
     },
     "execution_count": 21,
     "metadata": {},
     "output_type": "execute_result"
    }
   ],
   "source": [
    "final_df.dtypes"
   ]
  },
  {
   "cell_type": "code",
   "execution_count": 22,
   "metadata": {
    "colab": {},
    "colab_type": "code",
    "id": "hrtQJs2erCqM"
   },
   "outputs": [],
   "source": [
    "#To convert categorical variables to integer using label encoder\n",
    "Le = LabelEncoder()\n",
    "category_columns = ['fullVisitorId','Traffic_Source','Traffic_SourceMedium','Traffic_SourceCampaign','Device_Category',\n",
    "              'OperatingSystem','City','channelGrouping','transact','month','day','hour']\n",
    "\n",
    "for i in category_columns:\n",
    "    final_df[i]=Le.fit_transform(final_df[i])"
   ]
  },
  {
   "cell_type": "code",
   "execution_count": 23,
   "metadata": {
    "colab": {},
    "colab_type": "code",
    "id": "PoqdEbL6FD08"
   },
   "outputs": [],
   "source": [
    "#SPLITTING DATASET into Train and Test Dataset\n",
    "#split dataset in features and target variable\n",
    "feature_cols = ['fullVisitorId', 'visitNumber', 'Bounces','Page_Views','Avg_Session_Duration',\n",
    "                'Traffic_Source','Traffic_SourceMedium','Traffic_SourceCampaign','Device_Category',\n",
    "                'OperatingSystem','City','channelGrouping','day','month','hour']\n",
    "\n",
    "#features\n",
    "X = final_df[feature_cols] \n",
    "\n",
    "#Target variable\n",
    "y = final_df.transact \n",
    "\n",
    "# Splitting dataset into training (70%) and test set(30%)\n",
    "X_train, X_test, y_train, y_test = train_test_split(X, y, test_size=0.3)"
   ]
  },
  {
   "cell_type": "markdown",
   "metadata": {},
   "source": [
    "Data is ready for Machine Learning fit and prediction"
   ]
  },
  {
   "cell_type": "code",
   "execution_count": 24,
   "metadata": {
    "colab": {},
    "colab_type": "code",
    "id": "UyDQmzibFzFD"
   },
   "outputs": [],
   "source": [
    "#Decision Tree Model\n",
    "# Create Decision Tree classifer model\n",
    "DTC = DecisionTreeClassifier()\n",
    "\n",
    "# Train Decision Tree Classifer model\n",
    "DTC = DTC.fit(X_train,y_train)\n",
    "\n",
    "#Predict the response for test dataset\n",
    "y_pred = DTC.predict(X_test)"
   ]
  },
  {
   "cell_type": "code",
   "execution_count": 25,
   "metadata": {
    "colab": {
     "base_uri": "https://localhost:8080/",
     "height": 221
    },
    "colab_type": "code",
    "id": "knrUacOmGfF5",
    "outputId": "3f0dd456-fa41-40af-ba46-ef29c6d7aab1"
   },
   "outputs": [
    {
     "name": "stdout",
     "output_type": "stream",
     "text": [
      "Accuracy: 0.9804249275528649\n",
      "Conf_Matrix [[136058   1467]\n",
      " [  1262    625]]\n",
      "              precision    recall  f1-score   support\n",
      "\n",
      "           0       0.99      0.99      0.99    137525\n",
      "           1       0.30      0.33      0.31      1887\n",
      "\n",
      "    accuracy                           0.98    139412\n",
      "   macro avg       0.64      0.66      0.65    139412\n",
      "weighted avg       0.98      0.98      0.98    139412\n",
      "\n"
     ]
    }
   ],
   "source": [
    "# Model metrics\n",
    "print(\"Accuracy:\",metrics.accuracy_score(y_test, y_pred))\n",
    "print(\"Conf_Matrix\",confusion_matrix(y_test,y_pred))\n",
    "print(metrics.classification_report(y_test, y_pred)) #Yields Precision,recall,f1-score,support"
   ]
  },
  {
   "cell_type": "code",
   "execution_count": 26,
   "metadata": {
    "colab": {},
    "colab_type": "code",
    "id": "hwR-gKaJH_RZ"
   },
   "outputs": [],
   "source": [
    "#The Accuracy is around 98% and recall is high ,which implies the labelling wil be accurate."
   ]
  }
 ],
 "metadata": {
  "colab": {
   "name": "Merkle Assignment_Ishan_Ambasta",
   "provenance": []
  },
  "kernelspec": {
   "display_name": "Python 3",
   "language": "python",
   "name": "python3"
  },
  "language_info": {
   "codemirror_mode": {
    "name": "ipython",
    "version": 3
   },
   "file_extension": ".py",
   "mimetype": "text/x-python",
   "name": "python",
   "nbconvert_exporter": "python",
   "pygments_lexer": "ipython3",
   "version": "3.7.4"
  },
  "widgets": {
   "application/vnd.jupyter.widget-state+json": {
    "state": {},
    "version_major": 2,
    "version_minor": 0
   }
  }
 },
 "nbformat": 4,
 "nbformat_minor": 1
}
